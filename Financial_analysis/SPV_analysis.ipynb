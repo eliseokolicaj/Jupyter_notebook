{
 "cells": [
  {
   "cell_type": "code",
   "execution_count": 2,
   "id": "622a4abe",
   "metadata": {},
   "outputs": [],
   "source": [
    "#Import necessary libraries\n",
    "import pandas as pd\n",
    "import numpy as np\n",
    "import matplotlib.pyplot as plt\n",
    "import seaborn as sns\n",
    "sns.set_style(\"darkgrid\")\n",
    "from datetime import datetime"
   ]
  },
  {
   "cell_type": "code",
   "execution_count": 30,
   "id": "46b2214d",
   "metadata": {},
   "outputs": [
    {
     "data": {
      "text/html": [
       "<div>\n",
       "<style scoped>\n",
       "    .dataframe tbody tr th:only-of-type {\n",
       "        vertical-align: middle;\n",
       "    }\n",
       "\n",
       "    .dataframe tbody tr th {\n",
       "        vertical-align: top;\n",
       "    }\n",
       "\n",
       "    .dataframe thead th {\n",
       "        text-align: right;\n",
       "    }\n",
       "</style>\n",
       "<table border=\"1\" class=\"dataframe\">\n",
       "  <thead>\n",
       "    <tr style=\"text-align: right;\">\n",
       "      <th></th>\n",
       "      <th>edcode</th>\n",
       "      <th>data_cut_off_date</th>\n",
       "      <th>original_underlying_exposure_identifier</th>\n",
       "      <th>format</th>\n",
       "      <th>spv_country</th>\n",
       "      <th>deal_vintage</th>\n",
       "      <th>unique_identifier</th>\n",
       "      <th>original_obligor_identifier</th>\n",
       "      <th>redemption_date</th>\n",
       "      <th>geographic_region_obligor</th>\n",
       "      <th>...</th>\n",
       "      <th>original_lender_establishment_country</th>\n",
       "      <th>original_lender_legal_entity_identifier</th>\n",
       "      <th>origination_channel</th>\n",
       "      <th>originator_establishment_country</th>\n",
       "      <th>originator_legal_entity</th>\n",
       "      <th>payment_in_kind</th>\n",
       "      <th>recourse</th>\n",
       "      <th>revised_interest_rate_tenor</th>\n",
       "      <th>securitised_receivables</th>\n",
       "      <th>special_scheme</th>\n",
       "    </tr>\n",
       "  </thead>\n",
       "  <tbody>\n",
       "    <tr>\n",
       "      <th>0</th>\n",
       "      <td>SPV000165100820199</td>\n",
       "      <td>2023-03-31</td>\n",
       "      <td>007-610-0111960</td>\n",
       "      <td>ESMA</td>\n",
       "      <td>IT</td>\n",
       "      <td>2019</td>\n",
       "      <td>549300B0FLNFTFYQDJ30N201901</td>\n",
       "      <td>485651</td>\n",
       "      <td>NaT</td>\n",
       "      <td>ITH41</td>\n",
       "      <td>...</td>\n",
       "      <td>IT</td>\n",
       "      <td>549300B0FLNFTFYQDJ30</td>\n",
       "      <td>BRAN</td>\n",
       "      <td>IT</td>\n",
       "      <td>549300B0FLNFTFYQDJ30</td>\n",
       "      <td>False</td>\n",
       "      <td>1.0</td>\n",
       "      <td>NaN</td>\n",
       "      <td>PRIN</td>\n",
       "      <td>NaN</td>\n",
       "    </tr>\n",
       "    <tr>\n",
       "      <th>1</th>\n",
       "      <td>SPV000165100820199</td>\n",
       "      <td>2023-03-31</td>\n",
       "      <td>015-645-0109207</td>\n",
       "      <td>ESMA</td>\n",
       "      <td>IT</td>\n",
       "      <td>2019</td>\n",
       "      <td>549300B0FLNFTFYQDJ30N201901</td>\n",
       "      <td>488057</td>\n",
       "      <td>NaT</td>\n",
       "      <td>ITH42</td>\n",
       "      <td>...</td>\n",
       "      <td>IT</td>\n",
       "      <td>549300B0FLNFTFYQDJ30</td>\n",
       "      <td>BRAN</td>\n",
       "      <td>IT</td>\n",
       "      <td>549300B0FLNFTFYQDJ30</td>\n",
       "      <td>False</td>\n",
       "      <td>1.0</td>\n",
       "      <td>NaN</td>\n",
       "      <td>PRIN</td>\n",
       "      <td>NaN</td>\n",
       "    </tr>\n",
       "    <tr>\n",
       "      <th>2</th>\n",
       "      <td>SPV000165100820199</td>\n",
       "      <td>2023-03-31</td>\n",
       "      <td>033-620-0090734</td>\n",
       "      <td>ESMA</td>\n",
       "      <td>IT</td>\n",
       "      <td>2019</td>\n",
       "      <td>549300B0FLNFTFYQDJ30N201901</td>\n",
       "      <td>414379</td>\n",
       "      <td>NaT</td>\n",
       "      <td>ITH42</td>\n",
       "      <td>...</td>\n",
       "      <td>IT</td>\n",
       "      <td>549300B0FLNFTFYQDJ30</td>\n",
       "      <td>BRAN</td>\n",
       "      <td>IT</td>\n",
       "      <td>549300B0FLNFTFYQDJ30</td>\n",
       "      <td>False</td>\n",
       "      <td>1.0</td>\n",
       "      <td>NaN</td>\n",
       "      <td>PRIN</td>\n",
       "      <td>NaN</td>\n",
       "    </tr>\n",
       "    <tr>\n",
       "      <th>3</th>\n",
       "      <td>SPV000165100820199</td>\n",
       "      <td>2023-03-31</td>\n",
       "      <td>034-645-0058270</td>\n",
       "      <td>ESMA</td>\n",
       "      <td>IT</td>\n",
       "      <td>2019</td>\n",
       "      <td>549300B0FLNFTFYQDJ30N201901</td>\n",
       "      <td>407118</td>\n",
       "      <td>NaT</td>\n",
       "      <td>ITH42</td>\n",
       "      <td>...</td>\n",
       "      <td>IT</td>\n",
       "      <td>549300B0FLNFTFYQDJ30</td>\n",
       "      <td>BRAN</td>\n",
       "      <td>IT</td>\n",
       "      <td>549300B0FLNFTFYQDJ30</td>\n",
       "      <td>False</td>\n",
       "      <td>1.0</td>\n",
       "      <td>NaN</td>\n",
       "      <td>PRIN</td>\n",
       "      <td>NaN</td>\n",
       "    </tr>\n",
       "    <tr>\n",
       "      <th>4</th>\n",
       "      <td>SPV000165100820199</td>\n",
       "      <td>2023-03-31</td>\n",
       "      <td>040-620-0070585</td>\n",
       "      <td>ESMA</td>\n",
       "      <td>IT</td>\n",
       "      <td>2019</td>\n",
       "      <td>549300B0FLNFTFYQDJ30N201901</td>\n",
       "      <td>81326</td>\n",
       "      <td>NaT</td>\n",
       "      <td>ITH35</td>\n",
       "      <td>...</td>\n",
       "      <td>IT</td>\n",
       "      <td>549300B0FLNFTFYQDJ30</td>\n",
       "      <td>BRAN</td>\n",
       "      <td>IT</td>\n",
       "      <td>549300B0FLNFTFYQDJ30</td>\n",
       "      <td>False</td>\n",
       "      <td>1.0</td>\n",
       "      <td>NaN</td>\n",
       "      <td>PRIN</td>\n",
       "      <td>NaN</td>\n",
       "    </tr>\n",
       "  </tbody>\n",
       "</table>\n",
       "<p>5 rows × 93 columns</p>\n",
       "</div>"
      ],
      "text/plain": [
       "               edcode data_cut_off_date  \\\n",
       "0  SPV000165100820199        2023-03-31   \n",
       "1  SPV000165100820199        2023-03-31   \n",
       "2  SPV000165100820199        2023-03-31   \n",
       "3  SPV000165100820199        2023-03-31   \n",
       "4  SPV000165100820199        2023-03-31   \n",
       "\n",
       "  original_underlying_exposure_identifier format spv_country  deal_vintage  \\\n",
       "0                         007-610-0111960   ESMA          IT          2019   \n",
       "1                         015-645-0109207   ESMA          IT          2019   \n",
       "2                         033-620-0090734   ESMA          IT          2019   \n",
       "3                         034-645-0058270   ESMA          IT          2019   \n",
       "4                         040-620-0070585   ESMA          IT          2019   \n",
       "\n",
       "             unique_identifier  original_obligor_identifier redemption_date  \\\n",
       "0  549300B0FLNFTFYQDJ30N201901                       485651             NaT   \n",
       "1  549300B0FLNFTFYQDJ30N201901                       488057             NaT   \n",
       "2  549300B0FLNFTFYQDJ30N201901                       414379             NaT   \n",
       "3  549300B0FLNFTFYQDJ30N201901                       407118             NaT   \n",
       "4  549300B0FLNFTFYQDJ30N201901                        81326             NaT   \n",
       "\n",
       "  geographic_region_obligor  ... original_lender_establishment_country  \\\n",
       "0                     ITH41  ...                                    IT   \n",
       "1                     ITH42  ...                                    IT   \n",
       "2                     ITH42  ...                                    IT   \n",
       "3                     ITH42  ...                                    IT   \n",
       "4                     ITH35  ...                                    IT   \n",
       "\n",
       "  original_lender_legal_entity_identifier origination_channel  \\\n",
       "0                    549300B0FLNFTFYQDJ30                BRAN   \n",
       "1                    549300B0FLNFTFYQDJ30                BRAN   \n",
       "2                    549300B0FLNFTFYQDJ30                BRAN   \n",
       "3                    549300B0FLNFTFYQDJ30                BRAN   \n",
       "4                    549300B0FLNFTFYQDJ30                BRAN   \n",
       "\n",
       "  originator_establishment_country  originator_legal_entity  payment_in_kind  \\\n",
       "0                               IT     549300B0FLNFTFYQDJ30            False   \n",
       "1                               IT     549300B0FLNFTFYQDJ30            False   \n",
       "2                               IT     549300B0FLNFTFYQDJ30            False   \n",
       "3                               IT     549300B0FLNFTFYQDJ30            False   \n",
       "4                               IT     549300B0FLNFTFYQDJ30            False   \n",
       "\n",
       "   recourse  revised_interest_rate_tenor securitised_receivables  \\\n",
       "0       1.0                          NaN                    PRIN   \n",
       "1       1.0                          NaN                    PRIN   \n",
       "2       1.0                          NaN                    PRIN   \n",
       "3       1.0                          NaN                    PRIN   \n",
       "4       1.0                          NaN                    PRIN   \n",
       "\n",
       "  special_scheme  \n",
       "0            NaN  \n",
       "1            NaN  \n",
       "2            NaN  \n",
       "3            NaN  \n",
       "4            NaN  \n",
       "\n",
       "[5 rows x 93 columns]"
      ]
     },
     "execution_count": 30,
     "metadata": {},
     "output_type": "execute_result"
    }
   ],
   "source": [
    "#Read the data from excel file and show first 5 samples\n",
    "SPV_df = pd.read_excel('database.xlsx')\n",
    "SPV_df.head()"
   ]
  },
  {
   "cell_type": "code",
   "execution_count": 19,
   "id": "7970b2e5",
   "metadata": {},
   "outputs": [
    {
     "data": {
      "text/plain": [
       "(3214, 93)"
      ]
     },
     "execution_count": 19,
     "metadata": {},
     "output_type": "execute_result"
    }
   ],
   "source": [
    "SPV_df.shape"
   ]
  },
  {
   "cell_type": "code",
   "execution_count": 5,
   "id": "c62f7761",
   "metadata": {
    "scrolled": false
   },
   "outputs": [
    {
     "data": {
      "text/plain": [
       "Index(['edcode', 'data_cut_off_date',\n",
       "       'original_underlying_exposure_identifier', 'format', 'spv_country',\n",
       "       'deal_vintage', 'unique_identifier', 'original_obligor_identifier',\n",
       "       'redemption_date', 'geographic_region_obligor', 'customer_type',\n",
       "       'nace_industry_code', 'obligor_basel_iii_segment', 'enterprise_size',\n",
       "       'revenue', 'total_debt', 'ebitda', 'free_cashflow',\n",
       "       'date_of_financials', 'debt_type', 'seniority', 'syndicated',\n",
       "       'origination_date', 'maturity_date', 'purpose',\n",
       "       'original_principal_balance', 'current_principal_balance',\n",
       "       'total_credit_limit', 'amortisation_type',\n",
       "       'principal_grace_period_end_date',\n",
       "       'scheduled_principal_payment_frequency',\n",
       "       'scheduled_interest_payment_frequency', 'payment_due',\n",
       "       'payment_due_interest', 'balloon_amount', 'interest_rate_type',\n",
       "       'current_interest_rate', 'current_interest_rate_index',\n",
       "       'current_interest_rate_margin', 'interest_rate_reset_interval',\n",
       "       'interest_rate_cap', 'interest_rate_floor', 'revision_margin_1',\n",
       "       'interest_revision_date_1', 'revision_margin_2',\n",
       "       'interest_revision_date_2', 'revision_margin_3',\n",
       "       'interest_revision_date_3', 'revised_interest_rate_index',\n",
       "       'arrears_balance', 'number_of_days_in_arrears',\n",
       "       'number_of_days_in_arrears_interest',\n",
       "       'reason_for_default_or_foreclosure', 'default_amount', 'default_date',\n",
       "       'allocated_losses', 'cumulative_recoveries', 'recovery_source',\n",
       "       'deposit_amount', 'percentage_of_prepayments_allowed_per_year',\n",
       "       'date_last_in_arrears', 'date_of_repurchase', 'date_of_restructuring',\n",
       "       'pool_addition_date', 'prepayment_date', 'prepayment_fee_end_date',\n",
       "       'prepayment_lockout_end_date', 'cumulative_prepayments',\n",
       "       'enterprise_value', 'market_value', 'prepayment_fee',\n",
       "       'prior_principal_balance', 'number_of_payments_before_securitisation',\n",
       "       'purchase_price', 'account_status', 'credit_impaired_obligor',\n",
       "       'current_interest_rate_tenor', 'geographic_region_classification',\n",
       "       'international_securities_identification_number',\n",
       "       'leveraged_transaction', 'managed_by_clo', 'new_obligor_identifier',\n",
       "       'new_underlying_exposure_identifier',\n",
       "       'original_lender_establishment_country',\n",
       "       'original_lender_legal_entity_identifier', 'origination_channel',\n",
       "       'originator_establishment_country', 'originator_legal_entity',\n",
       "       'payment_in_kind', 'recourse', 'revised_interest_rate_tenor',\n",
       "       'securitised_receivables', 'special_scheme'],\n",
       "      dtype='object')"
      ]
     },
     "execution_count": 5,
     "metadata": {},
     "output_type": "execute_result"
    }
   ],
   "source": [
    "SPV_df.columns"
   ]
  },
  {
   "cell_type": "markdown",
   "id": "37562526",
   "metadata": {},
   "source": [
    "### 1) Compute and plot the distribution (by principal balance outstanding) of the portfolio by the first level of NACE code for the two reporting date (data_cut_off_date) include active and performing loans only."
   ]
  },
  {
   "cell_type": "code",
   "execution_count": 6,
   "id": "5addbf4d",
   "metadata": {},
   "outputs": [],
   "source": [
    "#list of fist level NACE\n",
    "nace_l1 = ['A','A1','A1.1','A1.1.1','A1.1.2','A1.1.3','A1.1.4','A1.1.5','A1.1.5','A1.1.9',\n",
    "          'A1.2','A1.2.1','A1.2.2','A1.2.3','A1.2.4','A1.2.5','A1.2.6','A1.2.7','A1.2.8','A1.2.9',\n",
    "          'A1.3','A1.3.0','A1.4','A1.4.1','A1.4.2','A1.4.3','A1.4.4','A1.4.5','A1.4.6','A1.4.7','A1.4.9',\n",
    "          'A1.5','A1.5.0','A1.6','A1.6.1','A1.6.2','A1.6.3','A1.6.4','A1.7','A1.7.0','A2','A2.1','A2.1.0',\n",
    "          'A2.2','A2.2.0','A2.3','A2.3.0','A2.4','A2.4.0','A3','A3.1','A3.1.1','A3.1.2','A3.2','A3.2.1','A3.2.2']"
   ]
  },
  {
   "cell_type": "code",
   "execution_count": 7,
   "id": "796f3da8",
   "metadata": {},
   "outputs": [],
   "source": [
    "#filter the data needed\n",
    "new_spv = SPV_df.loc[SPV_df['nace_industry_code'].isin(nace_l1)]\n",
    "new_spv = new_spv[['data_cut_off_date','current_principal_balance','maturity_date', 'default_amount', 'spv_country', 'nace_industry_code']]"
   ]
  },
  {
   "cell_type": "code",
   "execution_count": 8,
   "id": "05e8f774",
   "metadata": {},
   "outputs": [],
   "source": [
    "#create function to get principal balance outstanding\n",
    "def get_distribof_principal_balance(date):\n",
    "    date = pd.to_datetime(date)\n",
    "    #make sure the loan is active and data is inside the required date\n",
    "    spv = new_spv[(new_spv['data_cut_off_date'] == date) & (new_spv['maturity_date'] > date) ]\n",
    "    balance = spv['current_principal_balance']\n",
    "    return balance"
   ]
  },
  {
   "cell_type": "code",
   "execution_count": 9,
   "id": "6d4867ef",
   "metadata": {},
   "outputs": [
    {
     "data": {
      "image/png": "[encoded data removed]",
      "text/plain": [
       "<Figure size 500x500 with 1 Axes>"
      ]
     },
     "metadata": {},
     "output_type": "display_data"
    }
   ],
   "source": [
    "#Call the function \n",
    "balance = get_distribof_principal_balance('2022-12-31')\n",
    "principal_balance = pd.DataFrame(balance, columns = ['current_principal_balance'])\n",
    "#plot kernel density estimation type of distribution\n",
    "sns.displot(data = principal_balance, x=\"current_principal_balance\", kind='kde')\n",
    "sns.rugplot(data= principal_balance, x=\"current_principal_balance\")\n",
    "plt.xlabel(\"Principal Balance\")\n",
    "plt.show()\n"
   ]
  },
  {
   "cell_type": "markdown",
   "id": "44a9ef8e",
   "metadata": {},
   "source": [
    "#### There was a need to use kernel estimation distribution over histogram beacuse there is a big difference between the values in the feature current_principal_value.\n",
    "#### By the distribution we can tell that most samples are in the range from 0 to 0.5x10pow6 and other that go up to 2.7x10pow6"
   ]
  },
  {
   "cell_type": "markdown",
   "id": "579f524b",
   "metadata": {},
   "source": [
    "### 2) Calculate and plot the default rate by first level of NACE code and spv_country (default rate is the measure of default calculated on the outstanding amount in default)."
   ]
  },
  {
   "cell_type": "code",
   "execution_count": 10,
   "id": "4748cb3c",
   "metadata": {},
   "outputs": [
    {
     "name": "stdout",
     "output_type": "stream",
     "text": [
      "The mean of the default amount : 15606.404784580498\n"
     ]
    }
   ],
   "source": [
    "#group the data by country, nace code and calculate the mean of default amount\n",
    "spv1 = new_spv.groupby(['spv_country','nace_industry_code'])['default_amount'].mean().reset_index()\n",
    "spv2 =  new_spv.groupby(['spv_country'])['default_amount'].mean()\n",
    "print('The mean of the default amount :', spv2[0])"
   ]
  },
  {
   "cell_type": "code",
   "execution_count": 11,
   "id": "5cb1472d",
   "metadata": {},
   "outputs": [
    {
     "data": {
      "image/png": "[encoded data removed]",
      "text/plain": [
       "<Figure size 635.611x500 with 1 Axes>"
      ]
     },
     "metadata": {},
     "output_type": "display_data"
    }
   ],
   "source": [
    "#plot the graph with categorical plot or boxplot  \n",
    "sns.catplot(data=new_spv, x='spv_country', y='default_amount', hue = 'nace_industry_code')\n",
    "plt.xlabel(\"Country\")\n",
    "plt.ylabel(\"Default rate\")\n",
    "plt.show()"
   ]
  },
  {
   "cell_type": "markdown",
   "id": "aab96a2d",
   "metadata": {},
   "source": [
    "#### Again the difference in the values of column default_amount is big so boxplot wasnt optimal . Used categorical plot instead because the dataframe consists of 2 categorical features\n",
    "#### From the plot most of loans have 0 default rate"
   ]
  },
  {
   "cell_type": "markdown",
   "id": "e0c7c2e6",
   "metadata": {},
   "source": [
    "### 3) Calculate and plot the WALA, WAM and WAC (Weighted average loan age, Weighted average Maturity, Weighted average Coupon) of the portfolio for the two reporting date. For the coupon you can use the field current_interest_rate."
   ]
  },
  {
   "cell_type": "code",
   "execution_count": 12,
   "id": "782cc68a",
   "metadata": {},
   "outputs": [],
   "source": [
    "#filter the data needed\n",
    "SPV_df=SPV_df[['origination_date','maturity_date','current_interest_rate',\"current_principal_balance\",'data_cut_off_date']]\n",
    "\n",
    "#calculate the WALA\n",
    "def get_WALA(date):\n",
    "    spv_df = SPV_df[SPV_df['data_cut_off_date'] == date]\n",
    "    \n",
    "    #calculate the total principal balance of portfolio\n",
    "    total = spv_df['current_principal_balance'].sum()\n",
    "    #calculate the weight of each loan\n",
    "    weight = spv_df['current_principal_balance'] / total\n",
    "    #calculate the age of loan\n",
    "    age = spv_df['data_cut_off_date'] - spv_df['origination_date']\n",
    "    age = age.dt.days / 365\n",
    "    \n",
    "    #calculate WALA\n",
    "    WALA = weight * age\n",
    "    WALA = WALA.sum()\n",
    "    return WALA\n",
    "\n",
    "#calculate WAM\n",
    "def get_WAM(date):\n",
    "    spv_df = SPV_df[SPV_df['data_cut_off_date'] == date]\n",
    "    #make sure laon is still active\n",
    "    spv_df=spv_df[spv_df['maturity_date'] > spv_df['data_cut_off_date']]\n",
    "    \n",
    "    #calculate the total principal balance of portfolio\n",
    "    total = spv_df['current_principal_balance'].sum()\n",
    "    #calculate the weight of each loan\n",
    "    weight = spv_df['current_principal_balance'] / total\n",
    "    #calculate the time till maturity of loan\n",
    "    #check if loan is active\n",
    "    maturity = spv_df['maturity_date'] - spv_df['data_cut_off_date']\n",
    "    maturity = maturity.dt.days / 365\n",
    "    \n",
    "    #calculate WALA\n",
    "    WAM = weight * maturity\n",
    "    WAM = WAM.sum()\n",
    "    return WAM\n",
    "\n",
    "#calculate WAC\n",
    "def get_WAC(date):\n",
    "    spv_df = SPV_df[SPV_df['data_cut_off_date'] == date]\n",
    "    \n",
    "    #calculate the total principal balance of portfolio\n",
    "    total = spv_df['current_principal_balance'].sum()\n",
    "    #calculate the weight percentage of each loan\n",
    "    weight_percentage = (spv_df['current_principal_balance'] / total) * 100\n",
    "    #get the interest \n",
    "    interest = spv_df['current_interest_rate']/100\n",
    "    \n",
    "    #calculate WAC\n",
    "    WAC = weight_percentage * interest\n",
    "    WAC = WAC.sum()\n",
    "    return WAC\n",
    "    "
   ]
  },
  {
   "cell_type": "code",
   "execution_count": 13,
   "id": "dc832242",
   "metadata": {},
   "outputs": [
    {
     "data": {
      "image/png": "[encoded data removed]",
      "text/plain": [
       "<Figure size 640x480 with 1 Axes>"
      ]
     },
     "metadata": {},
     "output_type": "display_data"
    }
   ],
   "source": [
    "#call the functions to get WALA , WAM, WAC\n",
    "WALA = get_WALA('2022-12-31')\n",
    "WAM = get_WAM('2022-12-31')\n",
    "WAC = get_WAC('2022-12-31')\n",
    "\n",
    "#create a dataframe with the values\n",
    "df = { \"Type\": ['WALA','WAM','WAC'],\n",
    "        'Value':[WALA, WAM, WAC]\n",
    "       }\n",
    "df = pd.DataFrame(df)\n",
    "\n",
    "#plot WALA , WAM, WAC\n",
    "ax = sns.barplot(df, x='Type', y='Value')\n",
    "ax.bar_label(ax.containers[0], fontsize=10)\n",
    "plt.show()\n"
   ]
  },
  {
   "cell_type": "markdown",
   "id": "29727586",
   "metadata": {},
   "source": [
    "## Attempt to Predict Loan Defaults"
   ]
  },
  {
   "cell_type": "code",
   "execution_count": 151,
   "id": "acb048b6",
   "metadata": {},
   "outputs": [
    {
     "data": {
      "text/html": [
       "<div>\n",
       "<style scoped>\n",
       "    .dataframe tbody tr th:only-of-type {\n",
       "        vertical-align: middle;\n",
       "    }\n",
       "\n",
       "    .dataframe tbody tr th {\n",
       "        vertical-align: top;\n",
       "    }\n",
       "\n",
       "    .dataframe thead th {\n",
       "        text-align: right;\n",
       "    }\n",
       "</style>\n",
       "<table border=\"1\" class=\"dataframe\">\n",
       "  <thead>\n",
       "    <tr style=\"text-align: right;\">\n",
       "      <th></th>\n",
       "      <th>geographic_region_obligor</th>\n",
       "      <th>enterprise_size</th>\n",
       "      <th>revenue</th>\n",
       "      <th>total_debt</th>\n",
       "      <th>debt_type</th>\n",
       "      <th>original_principal_balance</th>\n",
       "      <th>current_principal_balance</th>\n",
       "      <th>current_interest_rate</th>\n",
       "    </tr>\n",
       "  </thead>\n",
       "  <tbody>\n",
       "    <tr>\n",
       "      <th>0</th>\n",
       "      <td>ITH41</td>\n",
       "      <td>MICE</td>\n",
       "      <td>583000.0</td>\n",
       "      <td>94000.0</td>\n",
       "      <td>LOLE</td>\n",
       "      <td>23000.0</td>\n",
       "      <td>5805.68</td>\n",
       "      <td>7.20</td>\n",
       "    </tr>\n",
       "    <tr>\n",
       "      <th>1</th>\n",
       "      <td>ITH42</td>\n",
       "      <td>NaN</td>\n",
       "      <td>NaN</td>\n",
       "      <td>NaN</td>\n",
       "      <td>LOLE</td>\n",
       "      <td>1600000.0</td>\n",
       "      <td>1529648.17</td>\n",
       "      <td>5.05</td>\n",
       "    </tr>\n",
       "    <tr>\n",
       "      <th>2</th>\n",
       "      <td>ITH42</td>\n",
       "      <td>MICE</td>\n",
       "      <td>36000.0</td>\n",
       "      <td>103000.0</td>\n",
       "      <td>LOLE</td>\n",
       "      <td>77600.0</td>\n",
       "      <td>47645.86</td>\n",
       "      <td>4.70</td>\n",
       "    </tr>\n",
       "    <tr>\n",
       "      <th>3</th>\n",
       "      <td>ITH42</td>\n",
       "      <td>SMAE</td>\n",
       "      <td>584000.0</td>\n",
       "      <td>2169000.0</td>\n",
       "      <td>LOLE</td>\n",
       "      <td>500000.0</td>\n",
       "      <td>257128.61</td>\n",
       "      <td>4.10</td>\n",
       "    </tr>\n",
       "    <tr>\n",
       "      <th>4</th>\n",
       "      <td>ITH35</td>\n",
       "      <td>SMAE</td>\n",
       "      <td>148000.0</td>\n",
       "      <td>1003000.0</td>\n",
       "      <td>LOLE</td>\n",
       "      <td>1400000.0</td>\n",
       "      <td>454774.50</td>\n",
       "      <td>4.65</td>\n",
       "    </tr>\n",
       "  </tbody>\n",
       "</table>\n",
       "</div>"
      ],
      "text/plain": [
       "  geographic_region_obligor enterprise_size   revenue  total_debt debt_type  \\\n",
       "0                     ITH41            MICE  583000.0     94000.0      LOLE   \n",
       "1                     ITH42             NaN       NaN         NaN      LOLE   \n",
       "2                     ITH42            MICE   36000.0    103000.0      LOLE   \n",
       "3                     ITH42            SMAE  584000.0   2169000.0      LOLE   \n",
       "4                     ITH35            SMAE  148000.0   1003000.0      LOLE   \n",
       "\n",
       "   original_principal_balance  current_principal_balance  \\\n",
       "0                     23000.0                    5805.68   \n",
       "1                   1600000.0                 1529648.17   \n",
       "2                     77600.0                   47645.86   \n",
       "3                    500000.0                  257128.61   \n",
       "4                   1400000.0                  454774.50   \n",
       "\n",
       "   current_interest_rate  \n",
       "0                   7.20  \n",
       "1                   5.05  \n",
       "2                   4.70  \n",
       "3                   4.10  \n",
       "4                   4.65  "
      ]
     },
     "execution_count": 151,
     "metadata": {},
     "output_type": "execute_result"
    }
   ],
   "source": [
    "#filter the data that can have an impact to loan defaults\n",
    "spv_df = SPV_df[['geographic_region_obligor','enterprise_size','revenue','total_debt', 'debt_type',\n",
    "                    'original_principal_balance', 'current_principal_balance', 'current_interest_rate']]\n",
    "spv_df.head()"
   ]
  },
  {
   "cell_type": "code",
   "execution_count": 152,
   "id": "86f839da",
   "metadata": {},
   "outputs": [
    {
     "data": {
      "text/plain": [
       "geographic_region_obligor        0\n",
       "enterprise_size               1128\n",
       "revenue                       1128\n",
       "total_debt                    1128\n",
       "debt_type                        0\n",
       "original_principal_balance     236\n",
       "current_principal_balance        0\n",
       "current_interest_rate            0\n",
       "dtype: int64"
      ]
     },
     "execution_count": 152,
     "metadata": {},
     "output_type": "execute_result"
    }
   ],
   "source": [
    "#check if there are any missing values\n",
    "spv_df.isnull().sum()"
   ]
  },
  {
   "cell_type": "code",
   "execution_count": 153,
   "id": "ba6c09ac",
   "metadata": {
    "collapsed": true
   },
   "outputs": [
    {
     "name": "stderr",
     "output_type": "stream",
     "text": [
      "C:\\Users\\User\\AppData\\Local\\Temp\\ipykernel_4912\\1899730255.py:3: SettingWithCopyWarning: \n",
      "A value is trying to be set on a copy of a slice from a DataFrame\n",
      "\n",
      "See the caveats in the documentation: https://pandas.pydata.org/pandas-docs/stable/user_guide/indexing.html#returning-a-view-versus-a-copy\n",
      "  spv_df['revenue'].replace(np.nan, mean1, inplace=True)\n",
      "C:\\Users\\User\\AppData\\Local\\Temp\\ipykernel_4912\\1899730255.py:5: SettingWithCopyWarning: \n",
      "A value is trying to be set on a copy of a slice from a DataFrame\n",
      "\n",
      "See the caveats in the documentation: https://pandas.pydata.org/pandas-docs/stable/user_guide/indexing.html#returning-a-view-versus-a-copy\n",
      "  spv_df['total_debt'].replace(np.nan, mean2, inplace=True)\n",
      "C:\\Users\\User\\AppData\\Local\\Temp\\ipykernel_4912\\1899730255.py:7: SettingWithCopyWarning: \n",
      "A value is trying to be set on a copy of a slice from a DataFrame\n",
      "\n",
      "See the caveats in the documentation: https://pandas.pydata.org/pandas-docs/stable/user_guide/indexing.html#returning-a-view-versus-a-copy\n",
      "  spv_df['original_principal_balance'].replace(np.nan, mean3, inplace=True)\n",
      "C:\\Users\\User\\AppData\\Local\\Temp\\ipykernel_4912\\1899730255.py:11: SettingWithCopyWarning: \n",
      "A value is trying to be set on a copy of a slice from a DataFrame\n",
      "\n",
      "See the caveats in the documentation: https://pandas.pydata.org/pandas-docs/stable/user_guide/indexing.html#returning-a-view-versus-a-copy\n",
      "  spv_df['enterprise_size'].replace(np.nan, class_name.index[0], inplace=True)\n"
     ]
    }
   ],
   "source": [
    "#fill na values in scalar type feature with the mean of column\n",
    "mean1 = spv_df['revenue'].mean()\n",
    "spv_df['revenue'].replace(np.nan, mean1, inplace=True)\n",
    "mean2 = spv_df['total_debt'].mean()\n",
    "spv_df['total_debt'].replace(np.nan, mean2, inplace=True)\n",
    "mean3 = spv_df['original_principal_balance'].mean()\n",
    "spv_df['original_principal_balance'].replace(np.nan, mean3, inplace=True)\n",
    "\n",
    "#fill na values in categorical type feature with the most occurring class of column\n",
    "class_name = spv_df['enterprise_size'].value_counts()\n",
    "spv_df['enterprise_size'].replace(np.nan, class_name.index[0], inplace=True)\n"
   ]
  },
  {
   "cell_type": "code",
   "execution_count": 154,
   "id": "3a7e107e",
   "metadata": {
    "scrolled": true
   },
   "outputs": [
    {
     "data": {
      "text/plain": [
       "(3214, 32)"
      ]
     },
     "execution_count": 154,
     "metadata": {},
     "output_type": "execute_result"
    }
   ],
   "source": [
    "#convert categorical data for logistic regression using one hot encoding\n",
    "features_one_hot = pd.get_dummies(spv_df[['geographic_region_obligor', 'enterprise_size', 'debt_type']])\n",
    "features_one_hot.astype(float)\n",
    "\n",
    "#feature matrix X\n",
    "X = spv_df[['revenue','total_debt','original_principal_balance','current_principal_balance', 'current_interest_rate']].join(features_one_hot)\n",
    "X.shape"
   ]
  },
  {
   "cell_type": "code",
   "execution_count": 155,
   "id": "90f63dfb",
   "metadata": {},
   "outputs": [],
   "source": [
    "#determine if a loan is default or not\n",
    "default_amount = SPV_df['default_amount']\n",
    "Default = []\n",
    "for value in default_amount:\n",
    "    if value > 0:\n",
    "        x=1\n",
    "    else:\n",
    "        x=0\n",
    "    Default.append(x)\n",
    "\n",
    "#Target feature Y\n",
    "default = pd.Series(Default)\n",
    "Y = default.to_numpy()"
   ]
  },
  {
   "cell_type": "code",
   "execution_count": 156,
   "id": "ff8af105",
   "metadata": {
    "scrolled": true
   },
   "outputs": [
    {
     "data": {
      "text/plain": [
       "array([[5.83000000e+05, 9.40000000e+04, 2.30000000e+04, 5.80568000e+03,\n",
       "        7.19999981e+00, 0.00000000e+00, 0.00000000e+00, 0.00000000e+00,\n",
       "        0.00000000e+00, 0.00000000e+00, 0.00000000e+00, 0.00000000e+00,\n",
       "        0.00000000e+00, 0.00000000e+00, 0.00000000e+00, 0.00000000e+00,\n",
       "        0.00000000e+00, 0.00000000e+00, 1.00000000e+00, 0.00000000e+00,\n",
       "        0.00000000e+00, 0.00000000e+00, 0.00000000e+00, 0.00000000e+00,\n",
       "        0.00000000e+00, 0.00000000e+00, 0.00000000e+00, 0.00000000e+00,\n",
       "        1.00000000e+00, 0.00000000e+00, 0.00000000e+00, 1.00000000e+00],\n",
       "       [2.04881687e+06, 1.43583365e+06, 1.60000000e+06, 1.52964817e+06,\n",
       "        5.05000019e+00, 0.00000000e+00, 0.00000000e+00, 0.00000000e+00,\n",
       "        0.00000000e+00, 0.00000000e+00, 0.00000000e+00, 0.00000000e+00,\n",
       "        0.00000000e+00, 0.00000000e+00, 0.00000000e+00, 0.00000000e+00,\n",
       "        0.00000000e+00, 0.00000000e+00, 0.00000000e+00, 1.00000000e+00,\n",
       "        0.00000000e+00, 0.00000000e+00, 0.00000000e+00, 0.00000000e+00,\n",
       "        0.00000000e+00, 0.00000000e+00, 0.00000000e+00, 0.00000000e+00,\n",
       "        1.00000000e+00, 0.00000000e+00, 0.00000000e+00, 1.00000000e+00],\n",
       "       [3.60000000e+04, 1.03000000e+05, 7.76000000e+04, 4.76458600e+04,\n",
       "        4.69999981e+00, 0.00000000e+00, 0.00000000e+00, 0.00000000e+00,\n",
       "        0.00000000e+00, 0.00000000e+00, 0.00000000e+00, 0.00000000e+00,\n",
       "        0.00000000e+00, 0.00000000e+00, 0.00000000e+00, 0.00000000e+00,\n",
       "        0.00000000e+00, 0.00000000e+00, 0.00000000e+00, 1.00000000e+00,\n",
       "        0.00000000e+00, 0.00000000e+00, 0.00000000e+00, 0.00000000e+00,\n",
       "        0.00000000e+00, 0.00000000e+00, 0.00000000e+00, 0.00000000e+00,\n",
       "        1.00000000e+00, 0.00000000e+00, 0.00000000e+00, 1.00000000e+00],\n",
       "       [5.84000000e+05, 2.16900000e+06, 5.00000000e+05, 2.57128610e+05,\n",
       "        4.09999990e+00, 0.00000000e+00, 0.00000000e+00, 0.00000000e+00,\n",
       "        0.00000000e+00, 0.00000000e+00, 0.00000000e+00, 0.00000000e+00,\n",
       "        0.00000000e+00, 0.00000000e+00, 0.00000000e+00, 0.00000000e+00,\n",
       "        0.00000000e+00, 0.00000000e+00, 0.00000000e+00, 1.00000000e+00,\n",
       "        0.00000000e+00, 0.00000000e+00, 0.00000000e+00, 0.00000000e+00,\n",
       "        0.00000000e+00, 0.00000000e+00, 0.00000000e+00, 0.00000000e+00,\n",
       "        0.00000000e+00, 0.00000000e+00, 1.00000000e+00, 1.00000000e+00],\n",
       "       [1.48000000e+05, 1.00300000e+06, 1.40000000e+06, 4.54774500e+05,\n",
       "        4.65000010e+00, 0.00000000e+00, 0.00000000e+00, 0.00000000e+00,\n",
       "        0.00000000e+00, 0.00000000e+00, 0.00000000e+00, 0.00000000e+00,\n",
       "        0.00000000e+00, 0.00000000e+00, 0.00000000e+00, 0.00000000e+00,\n",
       "        1.00000000e+00, 0.00000000e+00, 0.00000000e+00, 0.00000000e+00,\n",
       "        0.00000000e+00, 0.00000000e+00, 0.00000000e+00, 0.00000000e+00,\n",
       "        0.00000000e+00, 0.00000000e+00, 0.00000000e+00, 0.00000000e+00,\n",
       "        0.00000000e+00, 0.00000000e+00, 1.00000000e+00, 1.00000000e+00]])"
      ]
     },
     "execution_count": 156,
     "metadata": {},
     "output_type": "execute_result"
    }
   ],
   "source": [
    "#Get an array of values for X\n",
    "X = X.values\n",
    "X[0:5]"
   ]
  },
  {
   "cell_type": "code",
   "execution_count": 157,
   "id": "83bd24f7",
   "metadata": {},
   "outputs": [],
   "source": [
    "#Standardize the data in X then reassign it to the variable X using the transform provided below.\n",
    "from sklearn import preprocessing\n",
    "X = preprocessing.StandardScaler().fit(X).transform(X)"
   ]
  },
  {
   "cell_type": "code",
   "execution_count": 158,
   "id": "9bf22a4a",
   "metadata": {},
   "outputs": [],
   "source": [
    "#Split the data in train and test groups\n",
    "from sklearn.model_selection import train_test_split\n",
    "X_train, X_test, Y_train, Y_test = train_test_split(X, Y, test_size=0.2, random_state=2)"
   ]
  },
  {
   "cell_type": "markdown",
   "id": "0b93af80",
   "metadata": {},
   "source": [
    "### Logistic Regression"
   ]
  },
  {
   "cell_type": "code",
   "execution_count": 159,
   "id": "db3d7a5b",
   "metadata": {},
   "outputs": [
    {
     "data": {
      "text/html": [
       "<style>#sk-container-id-6 {color: black;background-color: white;}#sk-container-id-6 pre{padding: 0;}#sk-container-id-6 div.sk-toggleable {background-color: white;}#sk-container-id-6 label.sk-toggleable__label {cursor: pointer;display: block;width: 100%;margin-bottom: 0;padding: 0.3em;box-sizing: border-box;text-align: center;}#sk-container-id-6 label.sk-toggleable__label-arrow:before {content: \"▸\";float: left;margin-right: 0.25em;color: #696969;}#sk-container-id-6 label.sk-toggleable__label-arrow:hover:before {color: black;}#sk-container-id-6 div.sk-estimator:hover label.sk-toggleable__label-arrow:before {color: black;}#sk-container-id-6 div.sk-toggleable__content {max-height: 0;max-width: 0;overflow: hidden;text-align: left;background-color: #f0f8ff;}#sk-container-id-6 div.sk-toggleable__content pre {margin: 0.2em;color: black;border-radius: 0.25em;background-color: #f0f8ff;}#sk-container-id-6 input.sk-toggleable__control:checked~div.sk-toggleable__content {max-height: 200px;max-width: 100%;overflow: auto;}#sk-container-id-6 input.sk-toggleable__control:checked~label.sk-toggleable__label-arrow:before {content: \"▾\";}#sk-container-id-6 div.sk-estimator input.sk-toggleable__control:checked~label.sk-toggleable__label {background-color: #d4ebff;}#sk-container-id-6 div.sk-label input.sk-toggleable__control:checked~label.sk-toggleable__label {background-color: #d4ebff;}#sk-container-id-6 input.sk-hidden--visually {border: 0;clip: rect(1px 1px 1px 1px);clip: rect(1px, 1px, 1px, 1px);height: 1px;margin: -1px;overflow: hidden;padding: 0;position: absolute;width: 1px;}#sk-container-id-6 div.sk-estimator {font-family: monospace;background-color: #f0f8ff;border: 1px dotted black;border-radius: 0.25em;box-sizing: border-box;margin-bottom: 0.5em;}#sk-container-id-6 div.sk-estimator:hover {background-color: #d4ebff;}#sk-container-id-6 div.sk-parallel-item::after {content: \"\";width: 100%;border-bottom: 1px solid gray;flex-grow: 1;}#sk-container-id-6 div.sk-label:hover label.sk-toggleable__label {background-color: #d4ebff;}#sk-container-id-6 div.sk-serial::before {content: \"\";position: absolute;border-left: 1px solid gray;box-sizing: border-box;top: 0;bottom: 0;left: 50%;z-index: 0;}#sk-container-id-6 div.sk-serial {display: flex;flex-direction: column;align-items: center;background-color: white;padding-right: 0.2em;padding-left: 0.2em;position: relative;}#sk-container-id-6 div.sk-item {position: relative;z-index: 1;}#sk-container-id-6 div.sk-parallel {display: flex;align-items: stretch;justify-content: center;background-color: white;position: relative;}#sk-container-id-6 div.sk-item::before, #sk-container-id-6 div.sk-parallel-item::before {content: \"\";position: absolute;border-left: 1px solid gray;box-sizing: border-box;top: 0;bottom: 0;left: 50%;z-index: -1;}#sk-container-id-6 div.sk-parallel-item {display: flex;flex-direction: column;z-index: 1;position: relative;background-color: white;}#sk-container-id-6 div.sk-parallel-item:first-child::after {align-self: flex-end;width: 50%;}#sk-container-id-6 div.sk-parallel-item:last-child::after {align-self: flex-start;width: 50%;}#sk-container-id-6 div.sk-parallel-item:only-child::after {width: 0;}#sk-container-id-6 div.sk-dashed-wrapped {border: 1px dashed gray;margin: 0 0.4em 0.5em 0.4em;box-sizing: border-box;padding-bottom: 0.4em;background-color: white;}#sk-container-id-6 div.sk-label label {font-family: monospace;font-weight: bold;display: inline-block;line-height: 1.2em;}#sk-container-id-6 div.sk-label-container {text-align: center;}#sk-container-id-6 div.sk-container {/* jupyter's `normalize.less` sets `[hidden] { display: none; }` but bootstrap.min.css set `[hidden] { display: none !important; }` so we also need the `!important` here to be able to override the default hidden behavior on the sphinx rendered scikit-learn.org. See: https://github.com/scikit-learn/scikit-learn/issues/21755 */display: inline-block !important;position: relative;}#sk-container-id-6 div.sk-text-repr-fallback {display: none;}</style><div id=\"sk-container-id-6\" class=\"sk-top-container\"><div class=\"sk-text-repr-fallback\"><pre>GridSearchCV(cv=10, estimator=LogisticRegression(),\n",
       "             param_grid={&#x27;C&#x27;: [0.01, 0.1, 1], &#x27;penalty&#x27;: [&#x27;l2&#x27;],\n",
       "                         &#x27;solver&#x27;: [&#x27;lbfgs&#x27;]})</pre><b>In a Jupyter environment, please rerun this cell to show the HTML representation or trust the notebook. <br />On GitHub, the HTML representation is unable to render, please try loading this page with nbviewer.org.</b></div><div class=\"sk-container\" hidden><div class=\"sk-item sk-dashed-wrapped\"><div class=\"sk-label-container\"><div class=\"sk-label sk-toggleable\"><input class=\"sk-toggleable__control sk-hidden--visually\" id=\"sk-estimator-id-16\" type=\"checkbox\" ><label for=\"sk-estimator-id-16\" class=\"sk-toggleable__label sk-toggleable__label-arrow\">GridSearchCV</label><div class=\"sk-toggleable__content\"><pre>GridSearchCV(cv=10, estimator=LogisticRegression(),\n",
       "             param_grid={&#x27;C&#x27;: [0.01, 0.1, 1], &#x27;penalty&#x27;: [&#x27;l2&#x27;],\n",
       "                         &#x27;solver&#x27;: [&#x27;lbfgs&#x27;]})</pre></div></div></div><div class=\"sk-parallel\"><div class=\"sk-parallel-item\"><div class=\"sk-item\"><div class=\"sk-label-container\"><div class=\"sk-label sk-toggleable\"><input class=\"sk-toggleable__control sk-hidden--visually\" id=\"sk-estimator-id-17\" type=\"checkbox\" ><label for=\"sk-estimator-id-17\" class=\"sk-toggleable__label sk-toggleable__label-arrow\">estimator: LogisticRegression</label><div class=\"sk-toggleable__content\"><pre>LogisticRegression()</pre></div></div></div><div class=\"sk-serial\"><div class=\"sk-item\"><div class=\"sk-estimator sk-toggleable\"><input class=\"sk-toggleable__control sk-hidden--visually\" id=\"sk-estimator-id-18\" type=\"checkbox\" ><label for=\"sk-estimator-id-18\" class=\"sk-toggleable__label sk-toggleable__label-arrow\">LogisticRegression</label><div class=\"sk-toggleable__content\"><pre>LogisticRegression()</pre></div></div></div></div></div></div></div></div></div></div>"
      ],
      "text/plain": [
       "GridSearchCV(cv=10, estimator=LogisticRegression(),\n",
       "             param_grid={'C': [0.01, 0.1, 1], 'penalty': ['l2'],\n",
       "                         'solver': ['lbfgs']})"
      ]
     },
     "execution_count": 159,
     "metadata": {},
     "output_type": "execute_result"
    }
   ],
   "source": [
    "from sklearn.model_selection import GridSearchCV\n",
    "from sklearn.linear_model import LogisticRegression\n",
    "\n",
    "#Use GridSearchCV to find which parameters are best for the model\n",
    "parameters ={\"C\":[0.01,0.1,1],'penalty':['l2'], 'solver':['lbfgs']}# l1 lasso l2 ridge\n",
    "lr=LogisticRegression()\n",
    "logreg_cv = GridSearchCV(lr, parameters, cv=10)\n",
    "logreg_cv.fit(X_train, Y_train)"
   ]
  },
  {
   "cell_type": "code",
   "execution_count": 160,
   "id": "4063bf1e",
   "metadata": {},
   "outputs": [
    {
     "name": "stdout",
     "output_type": "stream",
     "text": [
      "Tuned hpyerparameters :(best parameters)  {'C': 0.1, 'penalty': 'l2', 'solver': 'lbfgs'}\n",
      "Accuracy : 0.9502156667571562\n"
     ]
    }
   ],
   "source": [
    "print(\"Tuned hpyerparameters :(best parameters) \",logreg_cv.best_params_)\n",
    "print(\"Accuracy :\",logreg_cv.best_score_)"
   ]
  },
  {
   "cell_type": "code",
   "execution_count": 161,
   "id": "e669026a",
   "metadata": {},
   "outputs": [
    {
     "name": "stdout",
     "output_type": "stream",
     "text": [
      "Train score: 0.9506028782574873\n"
     ]
    }
   ],
   "source": [
    "print(\"Train score:\",logreg_cv.score(X_train, Y_train))"
   ]
  },
  {
   "cell_type": "code",
   "execution_count": 162,
   "id": "5010ab29",
   "metadata": {},
   "outputs": [
    {
     "name": "stdout",
     "output_type": "stream",
     "text": [
      "Model's accuracy score: 0.9595645412130638\n"
     ]
    }
   ],
   "source": [
    "#Predict\n",
    "from sklearn.metrics import accuracy_score\n",
    "y_predict = logreg_cv.predict(X_test)\n",
    "print(\"Model's accuracy score:\", accuracy_score(Y_test, y_predict))"
   ]
  },
  {
   "cell_type": "code",
   "execution_count": 163,
   "id": "a1b33778",
   "metadata": {},
   "outputs": [],
   "source": [
    "#function to plot the confusion matrix\n",
    "def plot_confusion_matrix(y,y_predict):\n",
    "    \"this function plots the confusion matrix\"\n",
    "    from sklearn.metrics import confusion_matrix\n",
    "\n",
    "    cm = confusion_matrix(y, y_predict)\n",
    "    ax= plt.subplot()\n",
    "    sns.heatmap(cm, annot=True, ax = ax); #annot=True to annotate cells\n",
    "    ax.set_xlabel('Predicted labels')\n",
    "    ax.set_ylabel('True labels')\n",
    "    ax.set_title('Confusion Matrix'); \n",
    "    ax.xaxis.set_ticklabels(['No Default', 'Default']); ax.yaxis.set_ticklabels(['No Default', 'Default']) \n",
    "    plt.show() "
   ]
  },
  {
   "cell_type": "code",
   "execution_count": 164,
   "id": "2a3a94d9",
   "metadata": {},
   "outputs": [
    {
     "data": {
      "image/png": "[encoded data removed]",
      "text/plain": [
       "<Figure size 640x480 with 2 Axes>"
      ]
     },
     "metadata": {},
     "output_type": "display_data"
    }
   ],
   "source": [
    "plot_confusion_matrix(Y_test,y_predict)"
   ]
  },
  {
   "cell_type": "code",
   "execution_count": null,
   "id": "43d3a73a",
   "metadata": {},
   "outputs": [],
   "source": []
  }
 ],
 "metadata": {
  "kernelspec": {
   "display_name": "Python 3 (ipykernel)",
   "language": "python",
   "name": "python3"
  },
  "language_info": {
   "codemirror_mode": {
    "name": "ipython",
    "version": 3
   },
   "file_extension": ".py",
   "mimetype": "text/x-python",
   "name": "python",
   "nbconvert_exporter": "python",
   "pygments_lexer": "ipython3",
   "version": "3.10.9"
  }
 },
 "nbformat": 4,
 "nbformat_minor": 5
}
